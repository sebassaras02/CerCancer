{
  "cells": [
    {
      "cell_type": "code",
      "execution_count": 1,
      "metadata": {
        "id": "nvMP_vK25C5C"
      },
      "outputs": [],
      "source": [
        "import pandas as pd\n",
        "import numpy as np\n",
        "import matplotlib.pyplot as plt\n",
        "import seaborn as sns"
      ]
    },
    {
      "cell_type": "markdown",
      "metadata": {
        "id": "bkGWEePA5Z1I"
      },
      "source": [
        "Load data"
      ]
    },
    {
      "cell_type": "code",
      "execution_count": 2,
      "metadata": {
        "id": "HWXo9sO85Zbz"
      },
      "outputs": [],
      "source": [
        "df = pd.read_csv('./data/cervical-cancer_csv.csv')"
      ]
    },
    {
      "cell_type": "markdown",
      "metadata": {
        "id": "MjkeaHVq58YI"
      },
      "source": [
        "See how data looks like"
      ]
    },
    {
      "cell_type": "code",
      "execution_count": 3,
      "metadata": {
        "colab": {
          "base_uri": "https://localhost:8080/"
        },
        "id": "bZ_CdnzH6Cae",
        "outputId": "06aed679-8d31-443b-b7cd-8ecb5c0f5e7e"
      },
      "outputs": [
        {
          "data": {
            "text/plain": [
              "(835, 36)"
            ]
          },
          "execution_count": 3,
          "metadata": {},
          "output_type": "execute_result"
        }
      ],
      "source": [
        "df.shape"
      ]
    },
    {
      "cell_type": "code",
      "execution_count": 4,
      "metadata": {
        "colab": {
          "base_uri": "https://localhost:8080/"
        },
        "id": "_x686zQj5-Sg",
        "outputId": "6790eedb-6ca1-4ae0-eca3-4de019e3b03a"
      },
      "outputs": [
        {
          "data": {
            "text/plain": [
              "Age                                     0\n",
              "Number of sexual partners              25\n",
              "First sexual intercourse                7\n",
              "Num of pregnancies                     56\n",
              "Smokes                                 13\n",
              "Smokes (years)                         13\n",
              "Smokes (packs/year)                    13\n",
              "Hormonal Contraceptives               103\n",
              "Hormonal Contraceptives (years)       103\n",
              "IUD                                   112\n",
              "IUD (years)                           112\n",
              "STDs                                  100\n",
              "STDs (number)                         100\n",
              "STDs:condylomatosis                   100\n",
              "STDs:cervical condylomatosis          100\n",
              "STDs:vaginal condylomatosis           100\n",
              "STDs:vulvo-perineal condylomatosis    100\n",
              "STDs:syphilis                         100\n",
              "STDs:pelvic inflammatory disease      100\n",
              "STDs:genital herpes                   100\n",
              "STDs:molluscum contagiosum            100\n",
              "STDs:AIDS                             100\n",
              "STDs:HIV                              100\n",
              "STDs:Hepatitis B                      100\n",
              "STDs:HPV                              100\n",
              "STDs: Number of diagnosis               0\n",
              "STDs: Time since first diagnosis      764\n",
              "STDs: Time since last diagnosis       764\n",
              "Dx:Cancer                               0\n",
              "Dx:CIN                                  0\n",
              "Dx:HPV                                  0\n",
              "Dx                                      0\n",
              "Hinselmann                              0\n",
              "Schiller                                0\n",
              "Citology                                0\n",
              "Biopsy                                  0\n",
              "dtype: int64"
            ]
          },
          "execution_count": 4,
          "metadata": {},
          "output_type": "execute_result"
        }
      ],
      "source": [
        "df.isnull().sum()"
      ]
    },
    {
      "cell_type": "markdown",
      "metadata": {
        "id": "2Y__7reo6KNO"
      },
      "source": [
        "Get the columns with less than 150 values to fill the NaN with zeros"
      ]
    },
    {
      "cell_type": "code",
      "execution_count": 5,
      "metadata": {
        "id": "2n_hO4qf6OIW"
      },
      "outputs": [],
      "source": [
        "a = dict(df.isnull().sum()>150)"
      ]
    },
    {
      "cell_type": "code",
      "execution_count": 6,
      "metadata": {
        "id": "1NSceUWa6fGO"
      },
      "outputs": [],
      "source": [
        "columns_keep = [key for key, value in a.items() if value == False]"
      ]
    },
    {
      "cell_type": "markdown",
      "metadata": {
        "id": "juypmRSa7PsG"
      },
      "source": [
        "Filtrar el df"
      ]
    },
    {
      "cell_type": "code",
      "execution_count": 7,
      "metadata": {
        "id": "Idawh7Wc6zGI"
      },
      "outputs": [],
      "source": [
        "df_f = df[columns_keep]"
      ]
    },
    {
      "cell_type": "markdown",
      "metadata": {
        "id": "pf9JufNw7WmT"
      },
      "source": [
        "Fill NaN values with zero. It is likely that NaN values exits because the doctors were not able to register any information"
      ]
    },
    {
      "cell_type": "code",
      "execution_count": 8,
      "metadata": {
        "id": "W6neRZoH7Nwp"
      },
      "outputs": [],
      "source": [
        "df_f = df_f.fillna(0)"
      ]
    },
    {
      "cell_type": "markdown",
      "metadata": {
        "id": "sQ1eship7wp1"
      },
      "source": [
        "Verify if the classification is balanced or not"
      ]
    },
    {
      "cell_type": "code",
      "execution_count": 9,
      "metadata": {
        "colab": {
          "base_uri": "https://localhost:8080/",
          "height": 467
        },
        "id": "C3XTxS3v7zkj",
        "outputId": "2f6095ea-0ed1-41e2-e15c-cc2d57bc8b6b"
      },
      "outputs": [
        {
          "data": {
            "text/plain": [
              "<AxesSubplot: xlabel='Biopsy', ylabel='count'>"
            ]
          },
          "execution_count": 9,
          "metadata": {},
          "output_type": "execute_result"
        },
        {
          "data": {
            "image/png": "[encoded data removed]",
            "text/plain": [
              "<Figure size 640x480 with 1 Axes>"
            ]
          },
          "metadata": {},
          "output_type": "display_data"
        }
      ],
      "source": [
        "sns.countplot(data = df_f, x = 'Biopsy', )"
      ]
    },
    {
      "cell_type": "markdown",
      "metadata": {
        "id": "jMne4M4h8QDM"
      },
      "source": [
        "Thus, it means that the dataset is imbalanced.\n",
        "\n",
        "Select important variables for the classification model"
      ]
    },
    {
      "cell_type": "code",
      "execution_count": 10,
      "metadata": {},
      "outputs": [],
      "source": [
        "import phik"
      ]
    },
    {
      "cell_type": "code",
      "execution_count": 11,
      "metadata": {},
      "outputs": [
        {
          "name": "stdout",
          "output_type": "stream",
          "text": [
            "interval columns not set, guessing: ['Age', 'Number of sexual partners', 'First sexual intercourse', 'Num of pregnancies', 'Smokes', 'Smokes (years)', 'Smokes (packs/year)', 'Hormonal Contraceptives', 'Hormonal Contraceptives (years)', 'IUD', 'IUD (years)', 'STDs', 'STDs (number)', 'STDs:condylomatosis', 'STDs:cervical condylomatosis', 'STDs:vaginal condylomatosis', 'STDs:vulvo-perineal condylomatosis', 'STDs:syphilis', 'STDs:pelvic inflammatory disease', 'STDs:genital herpes', 'STDs:molluscum contagiosum', 'STDs:AIDS', 'STDs:HIV', 'STDs:Hepatitis B', 'STDs:HPV', 'STDs: Number of diagnosis', 'Dx:Cancer', 'Dx:CIN', 'Dx:HPV', 'Dx', 'Hinselmann', 'Schiller', 'Citology', 'Biopsy']\n"
          ]
        },
        {
          "name": "stderr",
          "output_type": "stream",
          "text": [
            "c:\\Users\\LP00035\\anaconda3\\envs\\knime\\lib\\site-packages\\phik\\data_quality.py:72: UserWarning: Not enough unique value for variable STDs:cervical condylomatosis for analysis 1. Dropping this column\n",
            "  warnings.warn(\n",
            "c:\\Users\\LP00035\\anaconda3\\envs\\knime\\lib\\site-packages\\phik\\data_quality.py:72: UserWarning: Not enough unique value for variable STDs:AIDS for analysis 1. Dropping this column\n",
            "  warnings.warn(\n"
          ]
        }
      ],
      "source": [
        "matrix_corr = df_f.phik_matrix()"
      ]
    },
    {
      "cell_type": "code",
      "execution_count": 12,
      "metadata": {},
      "outputs": [],
      "source": [
        "useful_var = list(matrix_corr.query('Biopsy > 0.1').index)"
      ]
    },
    {
      "cell_type": "markdown",
      "metadata": {},
      "source": [
        "Filter columns which has an important correlation"
      ]
    },
    {
      "cell_type": "code",
      "execution_count": 13,
      "metadata": {},
      "outputs": [],
      "source": [
        "df_u = df_f[useful_var]"
      ]
    },
    {
      "cell_type": "markdown",
      "metadata": {},
      "source": [
        "Split data into train and test"
      ]
    },
    {
      "cell_type": "code",
      "execution_count": 14,
      "metadata": {},
      "outputs": [],
      "source": [
        "from sklearn.model_selection import train_test_split"
      ]
    },
    {
      "cell_type": "code",
      "execution_count": 15,
      "metadata": {},
      "outputs": [],
      "source": [
        "train, test = train_test_split(df_u, test_size = 0.3, random_state = 99)"
      ]
    },
    {
      "cell_type": "markdown",
      "metadata": {},
      "source": [
        "# Machine Learning Modeling"
      ]
    },
    {
      "cell_type": "code",
      "execution_count": 16,
      "metadata": {},
      "outputs": [],
      "source": [
        "from pycaret.classification import *"
      ]
    },
    {
      "cell_type": "markdown",
      "metadata": {},
      "source": [
        "Normalize and standarize the data"
      ]
    },
    {
      "cell_type": "code",
      "execution_count": 17,
      "metadata": {},
      "outputs": [
        {
          "data": {
            "text/html": [
              "<style type=\"text/css\">\n",
              "#T_5c130_row8_col1, #T_5c130_row12_col1, #T_5c130_row14_col1, #T_5c130_row16_col1 {\n",
              "  background-color: lightgreen;\n",
              "}\n",
              "</style>\n",
              "<table id=\"T_5c130\">\n",
              "  <thead>\n",
              "    <tr>\n",
              "      <th class=\"blank level0\" >&nbsp;</th>\n",
              "      <th id=\"T_5c130_level0_col0\" class=\"col_heading level0 col0\" >Description</th>\n",
              "      <th id=\"T_5c130_level0_col1\" class=\"col_heading level0 col1\" >Value</th>\n",
              "    </tr>\n",
              "  </thead>\n",
              "  <tbody>\n",
              "    <tr>\n",
              "      <th id=\"T_5c130_level0_row0\" class=\"row_heading level0 row0\" >0</th>\n",
              "      <td id=\"T_5c130_row0_col0\" class=\"data row0 col0\" >Session id</td>\n",
              "      <td id=\"T_5c130_row0_col1\" class=\"data row0 col1\" >99</td>\n",
              "    </tr>\n",
              "    <tr>\n",
              "      <th id=\"T_5c130_level0_row1\" class=\"row_heading level0 row1\" >1</th>\n",
              "      <td id=\"T_5c130_row1_col0\" class=\"data row1 col0\" >Target</td>\n",
              "      <td id=\"T_5c130_row1_col1\" class=\"data row1 col1\" >Biopsy</td>\n",
              "    </tr>\n",
              "    <tr>\n",
              "      <th id=\"T_5c130_level0_row2\" class=\"row_heading level0 row2\" >2</th>\n",
              "      <td id=\"T_5c130_row2_col0\" class=\"data row2 col0\" >Target type</td>\n",
              "      <td id=\"T_5c130_row2_col1\" class=\"data row2 col1\" >Binary</td>\n",
              "    </tr>\n",
              "    <tr>\n",
              "      <th id=\"T_5c130_level0_row3\" class=\"row_heading level0 row3\" >3</th>\n",
              "      <td id=\"T_5c130_row3_col0\" class=\"data row3 col0\" >Original data shape</td>\n",
              "      <td id=\"T_5c130_row3_col1\" class=\"data row3 col1\" >(584, 16)</td>\n",
              "    </tr>\n",
              "    <tr>\n",
              "      <th id=\"T_5c130_level0_row4\" class=\"row_heading level0 row4\" >4</th>\n",
              "      <td id=\"T_5c130_row4_col0\" class=\"data row4 col0\" >Transformed data shape</td>\n",
              "      <td id=\"T_5c130_row4_col1\" class=\"data row4 col1\" >(938, 16)</td>\n",
              "    </tr>\n",
              "    <tr>\n",
              "      <th id=\"T_5c130_level0_row5\" class=\"row_heading level0 row5\" >5</th>\n",
              "      <td id=\"T_5c130_row5_col0\" class=\"data row5 col0\" >Transformed train set shape</td>\n",
              "      <td id=\"T_5c130_row5_col1\" class=\"data row5 col1\" >(762, 16)</td>\n",
              "    </tr>\n",
              "    <tr>\n",
              "      <th id=\"T_5c130_level0_row6\" class=\"row_heading level0 row6\" >6</th>\n",
              "      <td id=\"T_5c130_row6_col0\" class=\"data row6 col0\" >Transformed test set shape</td>\n",
              "      <td id=\"T_5c130_row6_col1\" class=\"data row6 col1\" >(176, 16)</td>\n",
              "    </tr>\n",
              "    <tr>\n",
              "      <th id=\"T_5c130_level0_row7\" class=\"row_heading level0 row7\" >7</th>\n",
              "      <td id=\"T_5c130_row7_col0\" class=\"data row7 col0\" >Numeric features</td>\n",
              "      <td id=\"T_5c130_row7_col1\" class=\"data row7 col1\" >15</td>\n",
              "    </tr>\n",
              "    <tr>\n",
              "      <th id=\"T_5c130_level0_row8\" class=\"row_heading level0 row8\" >8</th>\n",
              "      <td id=\"T_5c130_row8_col0\" class=\"data row8 col0\" >Preprocess</td>\n",
              "      <td id=\"T_5c130_row8_col1\" class=\"data row8 col1\" >True</td>\n",
              "    </tr>\n",
              "    <tr>\n",
              "      <th id=\"T_5c130_level0_row9\" class=\"row_heading level0 row9\" >9</th>\n",
              "      <td id=\"T_5c130_row9_col0\" class=\"data row9 col0\" >Imputation type</td>\n",
              "      <td id=\"T_5c130_row9_col1\" class=\"data row9 col1\" >simple</td>\n",
              "    </tr>\n",
              "    <tr>\n",
              "      <th id=\"T_5c130_level0_row10\" class=\"row_heading level0 row10\" >10</th>\n",
              "      <td id=\"T_5c130_row10_col0\" class=\"data row10 col0\" >Numeric imputation</td>\n",
              "      <td id=\"T_5c130_row10_col1\" class=\"data row10 col1\" >mean</td>\n",
              "    </tr>\n",
              "    <tr>\n",
              "      <th id=\"T_5c130_level0_row11\" class=\"row_heading level0 row11\" >11</th>\n",
              "      <td id=\"T_5c130_row11_col0\" class=\"data row11 col0\" >Categorical imputation</td>\n",
              "      <td id=\"T_5c130_row11_col1\" class=\"data row11 col1\" >mode</td>\n",
              "    </tr>\n",
              "    <tr>\n",
              "      <th id=\"T_5c130_level0_row12\" class=\"row_heading level0 row12\" >12</th>\n",
              "      <td id=\"T_5c130_row12_col0\" class=\"data row12 col0\" >Fix imbalance</td>\n",
              "      <td id=\"T_5c130_row12_col1\" class=\"data row12 col1\" >True</td>\n",
              "    </tr>\n",
              "    <tr>\n",
              "      <th id=\"T_5c130_level0_row13\" class=\"row_heading level0 row13\" >13</th>\n",
              "      <td id=\"T_5c130_row13_col0\" class=\"data row13 col0\" >Fix imbalance method</td>\n",
              "      <td id=\"T_5c130_row13_col1\" class=\"data row13 col1\" >SMOTE</td>\n",
              "    </tr>\n",
              "    <tr>\n",
              "      <th id=\"T_5c130_level0_row14\" class=\"row_heading level0 row14\" >14</th>\n",
              "      <td id=\"T_5c130_row14_col0\" class=\"data row14 col0\" >Transformation</td>\n",
              "      <td id=\"T_5c130_row14_col1\" class=\"data row14 col1\" >True</td>\n",
              "    </tr>\n",
              "    <tr>\n",
              "      <th id=\"T_5c130_level0_row15\" class=\"row_heading level0 row15\" >15</th>\n",
              "      <td id=\"T_5c130_row15_col0\" class=\"data row15 col0\" >Transformation method</td>\n",
              "      <td id=\"T_5c130_row15_col1\" class=\"data row15 col1\" >yeo-johnson</td>\n",
              "    </tr>\n",
              "    <tr>\n",
              "      <th id=\"T_5c130_level0_row16\" class=\"row_heading level0 row16\" >16</th>\n",
              "      <td id=\"T_5c130_row16_col0\" class=\"data row16 col0\" >Normalize</td>\n",
              "      <td id=\"T_5c130_row16_col1\" class=\"data row16 col1\" >True</td>\n",
              "    </tr>\n",
              "    <tr>\n",
              "      <th id=\"T_5c130_level0_row17\" class=\"row_heading level0 row17\" >17</th>\n",
              "      <td id=\"T_5c130_row17_col0\" class=\"data row17 col0\" >Normalize method</td>\n",
              "      <td id=\"T_5c130_row17_col1\" class=\"data row17 col1\" >minmax</td>\n",
              "    </tr>\n",
              "    <tr>\n",
              "      <th id=\"T_5c130_level0_row18\" class=\"row_heading level0 row18\" >18</th>\n",
              "      <td id=\"T_5c130_row18_col0\" class=\"data row18 col0\" >Fold Generator</td>\n",
              "      <td id=\"T_5c130_row18_col1\" class=\"data row18 col1\" >StratifiedKFold</td>\n",
              "    </tr>\n",
              "    <tr>\n",
              "      <th id=\"T_5c130_level0_row19\" class=\"row_heading level0 row19\" >19</th>\n",
              "      <td id=\"T_5c130_row19_col0\" class=\"data row19 col0\" >Fold Number</td>\n",
              "      <td id=\"T_5c130_row19_col1\" class=\"data row19 col1\" >10</td>\n",
              "    </tr>\n",
              "    <tr>\n",
              "      <th id=\"T_5c130_level0_row20\" class=\"row_heading level0 row20\" >20</th>\n",
              "      <td id=\"T_5c130_row20_col0\" class=\"data row20 col0\" >CPU Jobs</td>\n",
              "      <td id=\"T_5c130_row20_col1\" class=\"data row20 col1\" >-1</td>\n",
              "    </tr>\n",
              "    <tr>\n",
              "      <th id=\"T_5c130_level0_row21\" class=\"row_heading level0 row21\" >21</th>\n",
              "      <td id=\"T_5c130_row21_col0\" class=\"data row21 col0\" >Use GPU</td>\n",
              "      <td id=\"T_5c130_row21_col1\" class=\"data row21 col1\" >False</td>\n",
              "    </tr>\n",
              "    <tr>\n",
              "      <th id=\"T_5c130_level0_row22\" class=\"row_heading level0 row22\" >22</th>\n",
              "      <td id=\"T_5c130_row22_col0\" class=\"data row22 col0\" >Log Experiment</td>\n",
              "      <td id=\"T_5c130_row22_col1\" class=\"data row22 col1\" >False</td>\n",
              "    </tr>\n",
              "    <tr>\n",
              "      <th id=\"T_5c130_level0_row23\" class=\"row_heading level0 row23\" >23</th>\n",
              "      <td id=\"T_5c130_row23_col0\" class=\"data row23 col0\" >Experiment Name</td>\n",
              "      <td id=\"T_5c130_row23_col1\" class=\"data row23 col1\" >cancer_cervical</td>\n",
              "    </tr>\n",
              "    <tr>\n",
              "      <th id=\"T_5c130_level0_row24\" class=\"row_heading level0 row24\" >24</th>\n",
              "      <td id=\"T_5c130_row24_col0\" class=\"data row24 col0\" >USI</td>\n",
              "      <td id=\"T_5c130_row24_col1\" class=\"data row24 col1\" >6c54</td>\n",
              "    </tr>\n",
              "  </tbody>\n",
              "</table>\n"
            ],
            "text/plain": [
              "<pandas.io.formats.style.Styler at 0x205cd7e30d0>"
            ]
          },
          "metadata": {},
          "output_type": "display_data"
        }
      ],
      "source": [
        "data = setup(data = train, target = 'Biopsy', session_id = 99, normalize = True, normalize_method = 'minmax', \n",
        "             transformation = True, experiment_name = 'cancer_cervical', log_data = True, fix_imbalance = True)"
      ]
    },
    {
      "cell_type": "markdown",
      "metadata": {},
      "source": [
        "Train different models and select the models"
      ]
    },
    {
      "cell_type": "code",
      "execution_count": 18,
      "metadata": {},
      "outputs": [
        {
          "data": {
            "text/html": [
              "<div>\n",
              "<style scoped>\n",
              "    .dataframe tbody tr th:only-of-type {\n",
              "        vertical-align: middle;\n",
              "    }\n",
              "\n",
              "    .dataframe tbody tr th {\n",
              "        vertical-align: top;\n",
              "    }\n",
              "\n",
              "    .dataframe thead th {\n",
              "        text-align: right;\n",
              "    }\n",
              "</style>\n",
              "<table border=\"1\" class=\"dataframe\">\n",
              "  <thead>\n",
              "    <tr style=\"text-align: right;\">\n",
              "      <th></th>\n",
              "      <th></th>\n",
              "      <th></th>\n",
              "    </tr>\n",
              "    <tr>\n",
              "      <th></th>\n",
              "      <th></th>\n",
              "      <th></th>\n",
              "    </tr>\n",
              "  </thead>\n",
              "  <tbody>\n",
              "    <tr>\n",
              "      <th>Initiated</th>\n",
              "      <td>. . . . . . . . . . . . . . . . . .</td>\n",
              "      <td>10:02:25</td>\n",
              "    </tr>\n",
              "    <tr>\n",
              "      <th>Status</th>\n",
              "      <td>. . . . . . . . . . . . . . . . . .</td>\n",
              "      <td>Loading Estimator</td>\n",
              "    </tr>\n",
              "    <tr>\n",
              "      <th>Estimator</th>\n",
              "      <td>. . . . . . . . . . . . . . . . . .</td>\n",
              "      <td>Logistic Regression</td>\n",
              "    </tr>\n",
              "  </tbody>\n",
              "</table>\n",
              "</div>"
            ],
            "text/plain": [
              "                                                                   \n",
              "                                                                   \n",
              "Initiated  . . . . . . . . . . . . . . . . . .             10:02:25\n",
              "Status     . . . . . . . . . . . . . . . . . .    Loading Estimator\n",
              "Estimator  . . . . . . . . . . . . . . . . . .  Logistic Regression"
            ]
          },
          "metadata": {},
          "output_type": "display_data"
        },
        {
          "data": {
            "text/html": [
              "<style type=\"text/css\">\n",
              "#T_8ad7d th {\n",
              "  text-align: left;\n",
              "}\n",
              "#T_8ad7d_row0_col0, #T_8ad7d_row0_col2, #T_8ad7d_row0_col4, #T_8ad7d_row1_col0, #T_8ad7d_row1_col1, #T_8ad7d_row1_col2, #T_8ad7d_row1_col4, #T_8ad7d_row1_col5, #T_8ad7d_row1_col6, #T_8ad7d_row1_col7, #T_8ad7d_row2_col0, #T_8ad7d_row2_col1, #T_8ad7d_row2_col2, #T_8ad7d_row2_col3, #T_8ad7d_row2_col4, #T_8ad7d_row2_col5, #T_8ad7d_row2_col6, #T_8ad7d_row2_col7, #T_8ad7d_row3_col0, #T_8ad7d_row3_col1, #T_8ad7d_row3_col2, #T_8ad7d_row3_col3, #T_8ad7d_row3_col4, #T_8ad7d_row3_col5, #T_8ad7d_row3_col6, #T_8ad7d_row3_col7, #T_8ad7d_row4_col0, #T_8ad7d_row4_col1, #T_8ad7d_row4_col4, #T_8ad7d_row4_col5, #T_8ad7d_row4_col6, #T_8ad7d_row4_col7, #T_8ad7d_row5_col0, #T_8ad7d_row5_col1, #T_8ad7d_row5_col2, #T_8ad7d_row5_col3, #T_8ad7d_row5_col5, #T_8ad7d_row5_col6, #T_8ad7d_row5_col7, #T_8ad7d_row6_col0, #T_8ad7d_row6_col1, #T_8ad7d_row6_col2, #T_8ad7d_row6_col3, #T_8ad7d_row6_col4, #T_8ad7d_row6_col5, #T_8ad7d_row6_col6, #T_8ad7d_row6_col7, #T_8ad7d_row7_col0, #T_8ad7d_row7_col1, #T_8ad7d_row7_col2, #T_8ad7d_row7_col3, #T_8ad7d_row7_col4, #T_8ad7d_row7_col5, #T_8ad7d_row7_col6, #T_8ad7d_row7_col7, #T_8ad7d_row8_col0, #T_8ad7d_row8_col1, #T_8ad7d_row8_col2, #T_8ad7d_row8_col3, #T_8ad7d_row8_col4, #T_8ad7d_row8_col5, #T_8ad7d_row8_col6, #T_8ad7d_row8_col7, #T_8ad7d_row9_col0, #T_8ad7d_row9_col1, #T_8ad7d_row9_col2, #T_8ad7d_row9_col3, #T_8ad7d_row9_col4, #T_8ad7d_row9_col5, #T_8ad7d_row9_col6, #T_8ad7d_row9_col7, #T_8ad7d_row10_col0, #T_8ad7d_row10_col1, #T_8ad7d_row10_col2, #T_8ad7d_row10_col3, #T_8ad7d_row10_col4, #T_8ad7d_row10_col5, #T_8ad7d_row10_col6, #T_8ad7d_row10_col7, #T_8ad7d_row11_col0, #T_8ad7d_row11_col1, #T_8ad7d_row11_col2, #T_8ad7d_row11_col3, #T_8ad7d_row11_col4, #T_8ad7d_row11_col5, #T_8ad7d_row11_col6, #T_8ad7d_row11_col7, #T_8ad7d_row12_col0, #T_8ad7d_row12_col1, #T_8ad7d_row12_col2, #T_8ad7d_row12_col3, #T_8ad7d_row12_col4, #T_8ad7d_row12_col5, #T_8ad7d_row12_col6, #T_8ad7d_row12_col7, #T_8ad7d_row13_col0, #T_8ad7d_row13_col1, #T_8ad7d_row13_col2, #T_8ad7d_row13_col3, #T_8ad7d_row13_col4, #T_8ad7d_row13_col5, #T_8ad7d_row13_col6, #T_8ad7d_row13_col7 {\n",
              "  text-align: left;\n",
              "}\n",
              "#T_8ad7d_row0_col1, #T_8ad7d_row0_col3, #T_8ad7d_row0_col5, #T_8ad7d_row0_col6, #T_8ad7d_row0_col7, #T_8ad7d_row1_col3, #T_8ad7d_row4_col2, #T_8ad7d_row4_col3, #T_8ad7d_row5_col4 {\n",
              "  text-align: left;\n",
              "  background-color: yellow;\n",
              "}\n",
              "#T_8ad7d_row0_col8, #T_8ad7d_row1_col8, #T_8ad7d_row2_col8, #T_8ad7d_row3_col8, #T_8ad7d_row4_col8, #T_8ad7d_row5_col8, #T_8ad7d_row6_col8, #T_8ad7d_row7_col8, #T_8ad7d_row8_col8, #T_8ad7d_row9_col8, #T_8ad7d_row10_col8, #T_8ad7d_row11_col8, #T_8ad7d_row12_col8 {\n",
              "  text-align: left;\n",
              "  background-color: lightgrey;\n",
              "}\n",
              "#T_8ad7d_row13_col8 {\n",
              "  text-align: left;\n",
              "  background-color: yellow;\n",
              "  background-color: lightgrey;\n",
              "}\n",
              "</style>\n",
              "<table id=\"T_8ad7d\">\n",
              "  <thead>\n",
              "    <tr>\n",
              "      <th class=\"blank level0\" >&nbsp;</th>\n",
              "      <th id=\"T_8ad7d_level0_col0\" class=\"col_heading level0 col0\" >Model</th>\n",
              "      <th id=\"T_8ad7d_level0_col1\" class=\"col_heading level0 col1\" >Accuracy</th>\n",
              "      <th id=\"T_8ad7d_level0_col2\" class=\"col_heading level0 col2\" >AUC</th>\n",
              "      <th id=\"T_8ad7d_level0_col3\" class=\"col_heading level0 col3\" >Recall</th>\n",
              "      <th id=\"T_8ad7d_level0_col4\" class=\"col_heading level0 col4\" >Prec.</th>\n",
              "      <th id=\"T_8ad7d_level0_col5\" class=\"col_heading level0 col5\" >F1</th>\n",
              "      <th id=\"T_8ad7d_level0_col6\" class=\"col_heading level0 col6\" >Kappa</th>\n",
              "      <th id=\"T_8ad7d_level0_col7\" class=\"col_heading level0 col7\" >MCC</th>\n",
              "      <th id=\"T_8ad7d_level0_col8\" class=\"col_heading level0 col8\" >TT (Sec)</th>\n",
              "    </tr>\n",
              "  </thead>\n",
              "  <tbody>\n",
              "    <tr>\n",
              "      <th id=\"T_8ad7d_level0_row0\" class=\"row_heading level0 row0\" >ridge</th>\n",
              "      <td id=\"T_8ad7d_row0_col0\" class=\"data row0 col0\" >Ridge Classifier</td>\n",
              "      <td id=\"T_8ad7d_row0_col1\" class=\"data row0 col1\" >0.9655</td>\n",
              "      <td id=\"T_8ad7d_row0_col2\" class=\"data row0 col2\" >0.0000</td>\n",
              "      <td id=\"T_8ad7d_row0_col3\" class=\"data row0 col3\" >0.9333</td>\n",
              "      <td id=\"T_8ad7d_row0_col4\" class=\"data row0 col4\" >0.7350</td>\n",
              "      <td id=\"T_8ad7d_row0_col5\" class=\"data row0 col5\" >0.7974</td>\n",
              "      <td id=\"T_8ad7d_row0_col6\" class=\"data row0 col6\" >0.7809</td>\n",
              "      <td id=\"T_8ad7d_row0_col7\" class=\"data row0 col7\" >0.8010</td>\n",
              "      <td id=\"T_8ad7d_row0_col8\" class=\"data row0 col8\" >0.9450</td>\n",
              "    </tr>\n",
              "    <tr>\n",
              "      <th id=\"T_8ad7d_level0_row1\" class=\"row_heading level0 row1\" >lda</th>\n",
              "      <td id=\"T_8ad7d_row1_col0\" class=\"data row1 col0\" >Linear Discriminant Analysis</td>\n",
              "      <td id=\"T_8ad7d_row1_col1\" class=\"data row1 col1\" >0.9631</td>\n",
              "      <td id=\"T_8ad7d_row1_col2\" class=\"data row1 col2\" >0.9504</td>\n",
              "      <td id=\"T_8ad7d_row1_col3\" class=\"data row1 col3\" >0.9333</td>\n",
              "      <td id=\"T_8ad7d_row1_col4\" class=\"data row1 col4\" >0.7100</td>\n",
              "      <td id=\"T_8ad7d_row1_col5\" class=\"data row1 col5\" >0.7831</td>\n",
              "      <td id=\"T_8ad7d_row1_col6\" class=\"data row1 col6\" >0.7653</td>\n",
              "      <td id=\"T_8ad7d_row1_col7\" class=\"data row1 col7\" >0.7865</td>\n",
              "      <td id=\"T_8ad7d_row1_col8\" class=\"data row1 col8\" >0.7660</td>\n",
              "    </tr>\n",
              "    <tr>\n",
              "      <th id=\"T_8ad7d_level0_row2\" class=\"row_heading level0 row2\" >knn</th>\n",
              "      <td id=\"T_8ad7d_row2_col0\" class=\"data row2 col0\" >K Neighbors Classifier</td>\n",
              "      <td id=\"T_8ad7d_row2_col1\" class=\"data row2 col1\" >0.9607</td>\n",
              "      <td id=\"T_8ad7d_row2_col2\" class=\"data row2 col2\" >0.9511</td>\n",
              "      <td id=\"T_8ad7d_row2_col3\" class=\"data row2 col3\" >0.9000</td>\n",
              "      <td id=\"T_8ad7d_row2_col4\" class=\"data row2 col4\" >0.7345</td>\n",
              "      <td id=\"T_8ad7d_row2_col5\" class=\"data row2 col5\" >0.7612</td>\n",
              "      <td id=\"T_8ad7d_row2_col6\" class=\"data row2 col6\" >0.7426</td>\n",
              "      <td id=\"T_8ad7d_row2_col7\" class=\"data row2 col7\" >0.7726</td>\n",
              "      <td id=\"T_8ad7d_row2_col8\" class=\"data row2 col8\" >0.9440</td>\n",
              "    </tr>\n",
              "    <tr>\n",
              "      <th id=\"T_8ad7d_level0_row3\" class=\"row_heading level0 row3\" >et</th>\n",
              "      <td id=\"T_8ad7d_row3_col0\" class=\"data row3 col0\" >Extra Trees Classifier</td>\n",
              "      <td id=\"T_8ad7d_row3_col1\" class=\"data row3 col1\" >0.9583</td>\n",
              "      <td id=\"T_8ad7d_row3_col2\" class=\"data row3 col2\" >0.9601</td>\n",
              "      <td id=\"T_8ad7d_row3_col3\" class=\"data row3 col3\" >0.7333</td>\n",
              "      <td id=\"T_8ad7d_row3_col4\" class=\"data row3 col4\" >0.6917</td>\n",
              "      <td id=\"T_8ad7d_row3_col5\" class=\"data row3 col5\" >0.6807</td>\n",
              "      <td id=\"T_8ad7d_row3_col6\" class=\"data row3 col6\" >0.6634</td>\n",
              "      <td id=\"T_8ad7d_row3_col7\" class=\"data row3 col7\" >0.6808</td>\n",
              "      <td id=\"T_8ad7d_row3_col8\" class=\"data row3 col8\" >0.8740</td>\n",
              "    </tr>\n",
              "    <tr>\n",
              "      <th id=\"T_8ad7d_level0_row4\" class=\"row_heading level0 row4\" >lr</th>\n",
              "      <td id=\"T_8ad7d_row4_col0\" class=\"data row4 col0\" >Logistic Regression</td>\n",
              "      <td id=\"T_8ad7d_row4_col1\" class=\"data row4 col1\" >0.9582</td>\n",
              "      <td id=\"T_8ad7d_row4_col2\" class=\"data row4 col2\" >0.9715</td>\n",
              "      <td id=\"T_8ad7d_row4_col3\" class=\"data row4 col3\" >0.9333</td>\n",
              "      <td id=\"T_8ad7d_row4_col4\" class=\"data row4 col4\" >0.6779</td>\n",
              "      <td id=\"T_8ad7d_row4_col5\" class=\"data row4 col5\" >0.7574</td>\n",
              "      <td id=\"T_8ad7d_row4_col6\" class=\"data row4 col6\" >0.7376</td>\n",
              "      <td id=\"T_8ad7d_row4_col7\" class=\"data row4 col7\" >0.7639</td>\n",
              "      <td id=\"T_8ad7d_row4_col8\" class=\"data row4 col8\" >1.5300</td>\n",
              "    </tr>\n",
              "    <tr>\n",
              "      <th id=\"T_8ad7d_level0_row5\" class=\"row_heading level0 row5\" >rf</th>\n",
              "      <td id=\"T_8ad7d_row5_col0\" class=\"data row5 col0\" >Random Forest Classifier</td>\n",
              "      <td id=\"T_8ad7d_row5_col1\" class=\"data row5 col1\" >0.9558</td>\n",
              "      <td id=\"T_8ad7d_row5_col2\" class=\"data row5 col2\" >0.9627</td>\n",
              "      <td id=\"T_8ad7d_row5_col3\" class=\"data row5 col3\" >0.7333</td>\n",
              "      <td id=\"T_8ad7d_row5_col4\" class=\"data row5 col4\" >0.8000</td>\n",
              "      <td id=\"T_8ad7d_row5_col5\" class=\"data row5 col5\" >0.6950</td>\n",
              "      <td id=\"T_8ad7d_row5_col6\" class=\"data row5 col6\" >0.6746</td>\n",
              "      <td id=\"T_8ad7d_row5_col7\" class=\"data row5 col7\" >0.7117</td>\n",
              "      <td id=\"T_8ad7d_row5_col8\" class=\"data row5 col8\" >1.1630</td>\n",
              "    </tr>\n",
              "    <tr>\n",
              "      <th id=\"T_8ad7d_level0_row6\" class=\"row_heading level0 row6\" >svm</th>\n",
              "      <td id=\"T_8ad7d_row6_col0\" class=\"data row6 col0\" >SVM - Linear Kernel</td>\n",
              "      <td id=\"T_8ad7d_row6_col1\" class=\"data row6 col1\" >0.9557</td>\n",
              "      <td id=\"T_8ad7d_row6_col2\" class=\"data row6 col2\" >0.0000</td>\n",
              "      <td id=\"T_8ad7d_row6_col3\" class=\"data row6 col3\" >0.9000</td>\n",
              "      <td id=\"T_8ad7d_row6_col4\" class=\"data row6 col4\" >0.6600</td>\n",
              "      <td id=\"T_8ad7d_row6_col5\" class=\"data row6 col5\" >0.7355</td>\n",
              "      <td id=\"T_8ad7d_row6_col6\" class=\"data row6 col6\" >0.7140</td>\n",
              "      <td id=\"T_8ad7d_row6_col7\" class=\"data row6 col7\" >0.7383</td>\n",
              "      <td id=\"T_8ad7d_row6_col8\" class=\"data row6 col8\" >0.9670</td>\n",
              "    </tr>\n",
              "    <tr>\n",
              "      <th id=\"T_8ad7d_level0_row7\" class=\"row_heading level0 row7\" >lightgbm</th>\n",
              "      <td id=\"T_8ad7d_row7_col0\" class=\"data row7 col0\" >Light Gradient Boosting Machine</td>\n",
              "      <td id=\"T_8ad7d_row7_col1\" class=\"data row7 col1\" >0.9533</td>\n",
              "      <td id=\"T_8ad7d_row7_col2\" class=\"data row7 col2\" >0.9399</td>\n",
              "      <td id=\"T_8ad7d_row7_col3\" class=\"data row7 col3\" >0.6500</td>\n",
              "      <td id=\"T_8ad7d_row7_col4\" class=\"data row7 col4\" >0.7800</td>\n",
              "      <td id=\"T_8ad7d_row7_col5\" class=\"data row7 col5\" >0.6569</td>\n",
              "      <td id=\"T_8ad7d_row7_col6\" class=\"data row7 col6\" >0.6348</td>\n",
              "      <td id=\"T_8ad7d_row7_col7\" class=\"data row7 col7\" >0.6644</td>\n",
              "      <td id=\"T_8ad7d_row7_col8\" class=\"data row7 col8\" >0.9230</td>\n",
              "    </tr>\n",
              "    <tr>\n",
              "      <th id=\"T_8ad7d_level0_row8\" class=\"row_heading level0 row8\" >ada</th>\n",
              "      <td id=\"T_8ad7d_row8_col0\" class=\"data row8 col0\" >Ada Boost Classifier</td>\n",
              "      <td id=\"T_8ad7d_row8_col1\" class=\"data row8 col1\" >0.9509</td>\n",
              "      <td id=\"T_8ad7d_row8_col2\" class=\"data row8 col2\" >0.8237</td>\n",
              "      <td id=\"T_8ad7d_row8_col3\" class=\"data row8 col3\" >0.7167</td>\n",
              "      <td id=\"T_8ad7d_row8_col4\" class=\"data row8 col4\" >0.6783</td>\n",
              "      <td id=\"T_8ad7d_row8_col5\" class=\"data row8 col5\" >0.6810</td>\n",
              "      <td id=\"T_8ad7d_row8_col6\" class=\"data row8 col6\" >0.6561</td>\n",
              "      <td id=\"T_8ad7d_row8_col7\" class=\"data row8 col7\" >0.6645</td>\n",
              "      <td id=\"T_8ad7d_row8_col8\" class=\"data row8 col8\" >0.8360</td>\n",
              "    </tr>\n",
              "    <tr>\n",
              "      <th id=\"T_8ad7d_level0_row9\" class=\"row_heading level0 row9\" >dt</th>\n",
              "      <td id=\"T_8ad7d_row9_col0\" class=\"data row9 col0\" >Decision Tree Classifier</td>\n",
              "      <td id=\"T_8ad7d_row9_col1\" class=\"data row9 col1\" >0.9485</td>\n",
              "      <td id=\"T_8ad7d_row9_col2\" class=\"data row9 col2\" >0.7882</td>\n",
              "      <td id=\"T_8ad7d_row9_col3\" class=\"data row9 col3\" >0.6000</td>\n",
              "      <td id=\"T_8ad7d_row9_col4\" class=\"data row9 col4\" >0.7483</td>\n",
              "      <td id=\"T_8ad7d_row9_col5\" class=\"data row9 col5\" >0.6024</td>\n",
              "      <td id=\"T_8ad7d_row9_col6\" class=\"data row9 col6\" >0.5780</td>\n",
              "      <td id=\"T_8ad7d_row9_col7\" class=\"data row9 col7\" >0.6142</td>\n",
              "      <td id=\"T_8ad7d_row9_col8\" class=\"data row9 col8\" >0.8840</td>\n",
              "    </tr>\n",
              "    <tr>\n",
              "      <th id=\"T_8ad7d_level0_row10\" class=\"row_heading level0 row10\" >gbc</th>\n",
              "      <td id=\"T_8ad7d_row10_col0\" class=\"data row10 col0\" >Gradient Boosting Classifier</td>\n",
              "      <td id=\"T_8ad7d_row10_col1\" class=\"data row10 col1\" >0.9460</td>\n",
              "      <td id=\"T_8ad7d_row10_col2\" class=\"data row10 col2\" >0.9342</td>\n",
              "      <td id=\"T_8ad7d_row10_col3\" class=\"data row10 col3\" >0.6167</td>\n",
              "      <td id=\"T_8ad7d_row10_col4\" class=\"data row10 col4\" >0.7117</td>\n",
              "      <td id=\"T_8ad7d_row10_col5\" class=\"data row10 col5\" >0.6243</td>\n",
              "      <td id=\"T_8ad7d_row10_col6\" class=\"data row10 col6\" >0.5977</td>\n",
              "      <td id=\"T_8ad7d_row10_col7\" class=\"data row10 col7\" >0.6180</td>\n",
              "      <td id=\"T_8ad7d_row10_col8\" class=\"data row10 col8\" >0.7560</td>\n",
              "    </tr>\n",
              "    <tr>\n",
              "      <th id=\"T_8ad7d_level0_row11\" class=\"row_heading level0 row11\" >dummy</th>\n",
              "      <td id=\"T_8ad7d_row11_col0\" class=\"data row11 col0\" >Dummy Classifier</td>\n",
              "      <td id=\"T_8ad7d_row11_col1\" class=\"data row11 col1\" >0.9339</td>\n",
              "      <td id=\"T_8ad7d_row11_col2\" class=\"data row11 col2\" >0.5000</td>\n",
              "      <td id=\"T_8ad7d_row11_col3\" class=\"data row11 col3\" >0.0000</td>\n",
              "      <td id=\"T_8ad7d_row11_col4\" class=\"data row11 col4\" >0.0000</td>\n",
              "      <td id=\"T_8ad7d_row11_col5\" class=\"data row11 col5\" >0.0000</td>\n",
              "      <td id=\"T_8ad7d_row11_col6\" class=\"data row11 col6\" >0.0000</td>\n",
              "      <td id=\"T_8ad7d_row11_col7\" class=\"data row11 col7\" >0.0000</td>\n",
              "      <td id=\"T_8ad7d_row11_col8\" class=\"data row11 col8\" >0.7090</td>\n",
              "    </tr>\n",
              "    <tr>\n",
              "      <th id=\"T_8ad7d_level0_row12\" class=\"row_heading level0 row12\" >nb</th>\n",
              "      <td id=\"T_8ad7d_row12_col0\" class=\"data row12 col0\" >Naive Bayes</td>\n",
              "      <td id=\"T_8ad7d_row12_col1\" class=\"data row12 col1\" >0.9215</td>\n",
              "      <td id=\"T_8ad7d_row12_col2\" class=\"data row12 col2\" >0.8912</td>\n",
              "      <td id=\"T_8ad7d_row12_col3\" class=\"data row12 col3\" >0.9000</td>\n",
              "      <td id=\"T_8ad7d_row12_col4\" class=\"data row12 col4\" >0.4965</td>\n",
              "      <td id=\"T_8ad7d_row12_col5\" class=\"data row12 col5\" >0.6050</td>\n",
              "      <td id=\"T_8ad7d_row12_col6\" class=\"data row12 col6\" >0.5692</td>\n",
              "      <td id=\"T_8ad7d_row12_col7\" class=\"data row12 col7\" >0.6199</td>\n",
              "      <td id=\"T_8ad7d_row12_col8\" class=\"data row12 col8\" >0.9170</td>\n",
              "    </tr>\n",
              "    <tr>\n",
              "      <th id=\"T_8ad7d_level0_row13\" class=\"row_heading level0 row13\" >qda</th>\n",
              "      <td id=\"T_8ad7d_row13_col0\" class=\"data row13 col0\" >Quadratic Discriminant Analysis</td>\n",
              "      <td id=\"T_8ad7d_row13_col1\" class=\"data row13 col1\" >0.5851</td>\n",
              "      <td id=\"T_8ad7d_row13_col2\" class=\"data row13 col2\" >0.4307</td>\n",
              "      <td id=\"T_8ad7d_row13_col3\" class=\"data row13 col3\" >0.3667</td>\n",
              "      <td id=\"T_8ad7d_row13_col4\" class=\"data row13 col4\" >0.0272</td>\n",
              "      <td id=\"T_8ad7d_row13_col5\" class=\"data row13 col5\" >0.0507</td>\n",
              "      <td id=\"T_8ad7d_row13_col6\" class=\"data row13 col6\" >-0.0161</td>\n",
              "      <td id=\"T_8ad7d_row13_col7\" class=\"data row13 col7\" >-0.0404</td>\n",
              "      <td id=\"T_8ad7d_row13_col8\" class=\"data row13 col8\" >0.7070</td>\n",
              "    </tr>\n",
              "  </tbody>\n",
              "</table>\n"
            ],
            "text/plain": [
              "<pandas.io.formats.style.Styler at 0x205c771d130>"
            ]
          },
          "metadata": {},
          "output_type": "display_data"
        },
        {
          "data": {
            "application/vnd.jupyter.widget-view+json": {
              "model_id": "6eae0a64177448649905bc763a7dd4a7",
              "version_major": 2,
              "version_minor": 0
            },
            "text/plain": [
              "Processing:   0%|          | 0/61 [00:00<?, ?it/s]"
            ]
          },
          "metadata": {},
          "output_type": "display_data"
        }
      ],
      "source": [
        "results =  compare_models(verbose = True)"
      ]
    },
    {
      "cell_type": "code",
      "execution_count": 19,
      "metadata": {},
      "outputs": [
        {
          "data": {
            "text/html": [],
            "text/plain": [
              "<IPython.core.display.HTML object>"
            ]
          },
          "metadata": {},
          "output_type": "display_data"
        },
        {
          "data": {
            "text/html": [
              "<style type=\"text/css\">\n",
              "#T_d9cc3_row10_col0, #T_d9cc3_row10_col1, #T_d9cc3_row10_col2, #T_d9cc3_row10_col3, #T_d9cc3_row10_col4, #T_d9cc3_row10_col5, #T_d9cc3_row10_col6 {\n",
              "  background: yellow;\n",
              "}\n",
              "</style>\n",
              "<table id=\"T_d9cc3\">\n",
              "  <thead>\n",
              "    <tr>\n",
              "      <th class=\"blank level0\" >&nbsp;</th>\n",
              "      <th id=\"T_d9cc3_level0_col0\" class=\"col_heading level0 col0\" >Accuracy</th>\n",
              "      <th id=\"T_d9cc3_level0_col1\" class=\"col_heading level0 col1\" >AUC</th>\n",
              "      <th id=\"T_d9cc3_level0_col2\" class=\"col_heading level0 col2\" >Recall</th>\n",
              "      <th id=\"T_d9cc3_level0_col3\" class=\"col_heading level0 col3\" >Prec.</th>\n",
              "      <th id=\"T_d9cc3_level0_col4\" class=\"col_heading level0 col4\" >F1</th>\n",
              "      <th id=\"T_d9cc3_level0_col5\" class=\"col_heading level0 col5\" >Kappa</th>\n",
              "      <th id=\"T_d9cc3_level0_col6\" class=\"col_heading level0 col6\" >MCC</th>\n",
              "    </tr>\n",
              "    <tr>\n",
              "      <th class=\"index_name level0\" >Fold</th>\n",
              "      <th class=\"blank col0\" >&nbsp;</th>\n",
              "      <th class=\"blank col1\" >&nbsp;</th>\n",
              "      <th class=\"blank col2\" >&nbsp;</th>\n",
              "      <th class=\"blank col3\" >&nbsp;</th>\n",
              "      <th class=\"blank col4\" >&nbsp;</th>\n",
              "      <th class=\"blank col5\" >&nbsp;</th>\n",
              "      <th class=\"blank col6\" >&nbsp;</th>\n",
              "    </tr>\n",
              "  </thead>\n",
              "  <tbody>\n",
              "    <tr>\n",
              "      <th id=\"T_d9cc3_level0_row0\" class=\"row_heading level0 row0\" >0</th>\n",
              "      <td id=\"T_d9cc3_row0_col0\" class=\"data row0 col0\" >1.0000</td>\n",
              "      <td id=\"T_d9cc3_row0_col1\" class=\"data row0 col1\" >1.0000</td>\n",
              "      <td id=\"T_d9cc3_row0_col2\" class=\"data row0 col2\" >1.0000</td>\n",
              "      <td id=\"T_d9cc3_row0_col3\" class=\"data row0 col3\" >1.0000</td>\n",
              "      <td id=\"T_d9cc3_row0_col4\" class=\"data row0 col4\" >1.0000</td>\n",
              "      <td id=\"T_d9cc3_row0_col5\" class=\"data row0 col5\" >1.0000</td>\n",
              "      <td id=\"T_d9cc3_row0_col6\" class=\"data row0 col6\" >1.0000</td>\n",
              "    </tr>\n",
              "    <tr>\n",
              "      <th id=\"T_d9cc3_level0_row1\" class=\"row_heading level0 row1\" >1</th>\n",
              "      <td id=\"T_d9cc3_row1_col0\" class=\"data row1 col0\" >0.9512</td>\n",
              "      <td id=\"T_d9cc3_row1_col1\" class=\"data row1 col1\" >1.0000</td>\n",
              "      <td id=\"T_d9cc3_row1_col2\" class=\"data row1 col2\" >1.0000</td>\n",
              "      <td id=\"T_d9cc3_row1_col3\" class=\"data row1 col3\" >0.6000</td>\n",
              "      <td id=\"T_d9cc3_row1_col4\" class=\"data row1 col4\" >0.7500</td>\n",
              "      <td id=\"T_d9cc3_row1_col5\" class=\"data row1 col5\" >0.7248</td>\n",
              "      <td id=\"T_d9cc3_row1_col6\" class=\"data row1 col6\" >0.7539</td>\n",
              "    </tr>\n",
              "    <tr>\n",
              "      <th id=\"T_d9cc3_level0_row2\" class=\"row_heading level0 row2\" >2</th>\n",
              "      <td id=\"T_d9cc3_row2_col0\" class=\"data row2 col0\" >0.9268</td>\n",
              "      <td id=\"T_d9cc3_row2_col1\" class=\"data row2 col1\" >0.9386</td>\n",
              "      <td id=\"T_d9cc3_row2_col2\" class=\"data row2 col2\" >1.0000</td>\n",
              "      <td id=\"T_d9cc3_row2_col3\" class=\"data row2 col3\" >0.5000</td>\n",
              "      <td id=\"T_d9cc3_row2_col4\" class=\"data row2 col4\" >0.6667</td>\n",
              "      <td id=\"T_d9cc3_row2_col5\" class=\"data row2 col5\" >0.6306</td>\n",
              "      <td id=\"T_d9cc3_row2_col6\" class=\"data row2 col6\" >0.6786</td>\n",
              "    </tr>\n",
              "    <tr>\n",
              "      <th id=\"T_d9cc3_level0_row3\" class=\"row_heading level0 row3\" >3</th>\n",
              "      <td id=\"T_d9cc3_row3_col0\" class=\"data row3 col0\" >0.9512</td>\n",
              "      <td id=\"T_d9cc3_row3_col1\" class=\"data row3 col1\" >0.9737</td>\n",
              "      <td id=\"T_d9cc3_row3_col2\" class=\"data row3 col2\" >1.0000</td>\n",
              "      <td id=\"T_d9cc3_row3_col3\" class=\"data row3 col3\" >0.6000</td>\n",
              "      <td id=\"T_d9cc3_row3_col4\" class=\"data row3 col4\" >0.7500</td>\n",
              "      <td id=\"T_d9cc3_row3_col5\" class=\"data row3 col5\" >0.7248</td>\n",
              "      <td id=\"T_d9cc3_row3_col6\" class=\"data row3 col6\" >0.7539</td>\n",
              "    </tr>\n",
              "    <tr>\n",
              "      <th id=\"T_d9cc3_level0_row4\" class=\"row_heading level0 row4\" >4</th>\n",
              "      <td id=\"T_d9cc3_row4_col0\" class=\"data row4 col0\" >1.0000</td>\n",
              "      <td id=\"T_d9cc3_row4_col1\" class=\"data row4 col1\" >1.0000</td>\n",
              "      <td id=\"T_d9cc3_row4_col2\" class=\"data row4 col2\" >1.0000</td>\n",
              "      <td id=\"T_d9cc3_row4_col3\" class=\"data row4 col3\" >1.0000</td>\n",
              "      <td id=\"T_d9cc3_row4_col4\" class=\"data row4 col4\" >1.0000</td>\n",
              "      <td id=\"T_d9cc3_row4_col5\" class=\"data row4 col5\" >1.0000</td>\n",
              "      <td id=\"T_d9cc3_row4_col6\" class=\"data row4 col6\" >1.0000</td>\n",
              "    </tr>\n",
              "    <tr>\n",
              "      <th id=\"T_d9cc3_level0_row5\" class=\"row_heading level0 row5\" >5</th>\n",
              "      <td id=\"T_d9cc3_row5_col0\" class=\"data row5 col0\" >0.9268</td>\n",
              "      <td id=\"T_d9cc3_row5_col1\" class=\"data row5 col1\" >0.8772</td>\n",
              "      <td id=\"T_d9cc3_row5_col2\" class=\"data row5 col2\" >0.3333</td>\n",
              "      <td id=\"T_d9cc3_row5_col3\" class=\"data row5 col3\" >0.5000</td>\n",
              "      <td id=\"T_d9cc3_row5_col4\" class=\"data row5 col4\" >0.4000</td>\n",
              "      <td id=\"T_d9cc3_row5_col5\" class=\"data row5 col5\" >0.3627</td>\n",
              "      <td id=\"T_d9cc3_row5_col6\" class=\"data row5 col6\" >0.3712</td>\n",
              "    </tr>\n",
              "    <tr>\n",
              "      <th id=\"T_d9cc3_level0_row6\" class=\"row_heading level0 row6\" >6</th>\n",
              "      <td id=\"T_d9cc3_row6_col0\" class=\"data row6 col0\" >1.0000</td>\n",
              "      <td id=\"T_d9cc3_row6_col1\" class=\"data row6 col1\" >1.0000</td>\n",
              "      <td id=\"T_d9cc3_row6_col2\" class=\"data row6 col2\" >1.0000</td>\n",
              "      <td id=\"T_d9cc3_row6_col3\" class=\"data row6 col3\" >1.0000</td>\n",
              "      <td id=\"T_d9cc3_row6_col4\" class=\"data row6 col4\" >1.0000</td>\n",
              "      <td id=\"T_d9cc3_row6_col5\" class=\"data row6 col5\" >1.0000</td>\n",
              "      <td id=\"T_d9cc3_row6_col6\" class=\"data row6 col6\" >1.0000</td>\n",
              "    </tr>\n",
              "    <tr>\n",
              "      <th id=\"T_d9cc3_level0_row7\" class=\"row_heading level0 row7\" >7</th>\n",
              "      <td id=\"T_d9cc3_row7_col0\" class=\"data row7 col0\" >0.9756</td>\n",
              "      <td id=\"T_d9cc3_row7_col1\" class=\"data row7 col1\" >1.0000</td>\n",
              "      <td id=\"T_d9cc3_row7_col2\" class=\"data row7 col2\" >1.0000</td>\n",
              "      <td id=\"T_d9cc3_row7_col3\" class=\"data row7 col3\" >0.6667</td>\n",
              "      <td id=\"T_d9cc3_row7_col4\" class=\"data row7 col4\" >0.8000</td>\n",
              "      <td id=\"T_d9cc3_row7_col5\" class=\"data row7 col5\" >0.7876</td>\n",
              "      <td id=\"T_d9cc3_row7_col6\" class=\"data row7 col6\" >0.8060</td>\n",
              "    </tr>\n",
              "    <tr>\n",
              "      <th id=\"T_d9cc3_level0_row8\" class=\"row_heading level0 row8\" >8</th>\n",
              "      <td id=\"T_d9cc3_row8_col0\" class=\"data row8 col0\" >0.9500</td>\n",
              "      <td id=\"T_d9cc3_row8_col1\" class=\"data row8 col1\" >0.9737</td>\n",
              "      <td id=\"T_d9cc3_row8_col2\" class=\"data row8 col2\" >1.0000</td>\n",
              "      <td id=\"T_d9cc3_row8_col3\" class=\"data row8 col3\" >0.5000</td>\n",
              "      <td id=\"T_d9cc3_row8_col4\" class=\"data row8 col4\" >0.6667</td>\n",
              "      <td id=\"T_d9cc3_row8_col5\" class=\"data row8 col5\" >0.6429</td>\n",
              "      <td id=\"T_d9cc3_row8_col6\" class=\"data row8 col6\" >0.6882</td>\n",
              "    </tr>\n",
              "    <tr>\n",
              "      <th id=\"T_d9cc3_level0_row9\" class=\"row_heading level0 row9\" >9</th>\n",
              "      <td id=\"T_d9cc3_row9_col0\" class=\"data row9 col0\" >0.9000</td>\n",
              "      <td id=\"T_d9cc3_row9_col1\" class=\"data row9 col1\" >0.9474</td>\n",
              "      <td id=\"T_d9cc3_row9_col2\" class=\"data row9 col2\" >1.0000</td>\n",
              "      <td id=\"T_d9cc3_row9_col3\" class=\"data row9 col3\" >0.3333</td>\n",
              "      <td id=\"T_d9cc3_row9_col4\" class=\"data row9 col4\" >0.5000</td>\n",
              "      <td id=\"T_d9cc3_row9_col5\" class=\"data row9 col5\" >0.4595</td>\n",
              "      <td id=\"T_d9cc3_row9_col6\" class=\"data row9 col6\" >0.5461</td>\n",
              "    </tr>\n",
              "    <tr>\n",
              "      <th id=\"T_d9cc3_level0_row10\" class=\"row_heading level0 row10\" >Mean</th>\n",
              "      <td id=\"T_d9cc3_row10_col0\" class=\"data row10 col0\" >0.9582</td>\n",
              "      <td id=\"T_d9cc3_row10_col1\" class=\"data row10 col1\" >0.9711</td>\n",
              "      <td id=\"T_d9cc3_row10_col2\" class=\"data row10 col2\" >0.9333</td>\n",
              "      <td id=\"T_d9cc3_row10_col3\" class=\"data row10 col3\" >0.6700</td>\n",
              "      <td id=\"T_d9cc3_row10_col4\" class=\"data row10 col4\" >0.7533</td>\n",
              "      <td id=\"T_d9cc3_row10_col5\" class=\"data row10 col5\" >0.7333</td>\n",
              "      <td id=\"T_d9cc3_row10_col6\" class=\"data row10 col6\" >0.7598</td>\n",
              "    </tr>\n",
              "    <tr>\n",
              "      <th id=\"T_d9cc3_level0_row11\" class=\"row_heading level0 row11\" >Std</th>\n",
              "      <td id=\"T_d9cc3_row11_col0\" class=\"data row11 col0\" >0.0333</td>\n",
              "      <td id=\"T_d9cc3_row11_col1\" class=\"data row11 col1\" >0.0382</td>\n",
              "      <td id=\"T_d9cc3_row11_col2\" class=\"data row11 col2\" >0.2000</td>\n",
              "      <td id=\"T_d9cc3_row11_col3\" class=\"data row11 col3\" >0.2316</td>\n",
              "      <td id=\"T_d9cc3_row11_col4\" class=\"data row11 col4\" >0.1972</td>\n",
              "      <td id=\"T_d9cc3_row11_col5\" class=\"data row11 col5\" >0.2115</td>\n",
              "      <td id=\"T_d9cc3_row11_col6\" class=\"data row11 col6\" >0.1959</td>\n",
              "    </tr>\n",
              "  </tbody>\n",
              "</table>\n"
            ],
            "text/plain": [
              "<pandas.io.formats.style.Styler at 0x205cd8d9d30>"
            ]
          },
          "metadata": {},
          "output_type": "display_data"
        },
        {
          "data": {
            "application/vnd.jupyter.widget-view+json": {
              "model_id": "bc3c25e3cae2444ea9b202279dcd1b1a",
              "version_major": 2,
              "version_minor": 0
            },
            "text/plain": [
              "Processing:   0%|          | 0/7 [00:00<?, ?it/s]"
            ]
          },
          "metadata": {},
          "output_type": "display_data"
        },
        {
          "name": "stdout",
          "output_type": "stream",
          "text": [
            "Fitting 10 folds for each of 10 candidates, totalling 100 fits\n",
            "Original model was better than the tuned model, hence it will be returned. NOTE: The display metrics are for the tuned model (not the original one).\n"
          ]
        }
      ],
      "source": [
        "best_model = automl(optimize = 'AUC')\n",
        "tunned_model = tune_model(estimator = best_model)"
      ]
    },
    {
      "cell_type": "markdown",
      "metadata": {},
      "source": [
        "Select the best model"
      ]
    },
    {
      "cell_type": "code",
      "execution_count": 20,
      "metadata": {},
      "outputs": [],
      "source": [
        "final_model = finalize_model(estimator = tunned_model)"
      ]
    },
    {
      "cell_type": "markdown",
      "metadata": {},
      "source": [
        "# Save the scores over the test dataset"
      ]
    },
    {
      "cell_type": "markdown",
      "metadata": {},
      "source": [
        "Test the model and see the results"
      ]
    },
    {
      "cell_type": "code",
      "execution_count": 21,
      "metadata": {},
      "outputs": [
        {
          "data": {
            "text/html": [
              "<style type=\"text/css\">\n",
              "</style>\n",
              "<table id=\"T_0a1bc\">\n",
              "  <thead>\n",
              "    <tr>\n",
              "      <th class=\"blank level0\" >&nbsp;</th>\n",
              "      <th id=\"T_0a1bc_level0_col0\" class=\"col_heading level0 col0\" >Model</th>\n",
              "      <th id=\"T_0a1bc_level0_col1\" class=\"col_heading level0 col1\" >Accuracy</th>\n",
              "      <th id=\"T_0a1bc_level0_col2\" class=\"col_heading level0 col2\" >AUC</th>\n",
              "      <th id=\"T_0a1bc_level0_col3\" class=\"col_heading level0 col3\" >Recall</th>\n",
              "      <th id=\"T_0a1bc_level0_col4\" class=\"col_heading level0 col4\" >Prec.</th>\n",
              "      <th id=\"T_0a1bc_level0_col5\" class=\"col_heading level0 col5\" >F1</th>\n",
              "      <th id=\"T_0a1bc_level0_col6\" class=\"col_heading level0 col6\" >Kappa</th>\n",
              "      <th id=\"T_0a1bc_level0_col7\" class=\"col_heading level0 col7\" >MCC</th>\n",
              "    </tr>\n",
              "  </thead>\n",
              "  <tbody>\n",
              "    <tr>\n",
              "      <th id=\"T_0a1bc_level0_row0\" class=\"row_heading level0 row0\" >0</th>\n",
              "      <td id=\"T_0a1bc_row0_col0\" class=\"data row0 col0\" >Logistic Regression</td>\n",
              "      <td id=\"T_0a1bc_row0_col1\" class=\"data row0 col1\" >0.9522</td>\n",
              "      <td id=\"T_0a1bc_row0_col2\" class=\"data row0 col2\" >0.9655</td>\n",
              "      <td id=\"T_0a1bc_row0_col3\" class=\"data row0 col3\" >0.8667</td>\n",
              "      <td id=\"T_0a1bc_row0_col4\" class=\"data row0 col4\" >0.5652</td>\n",
              "      <td id=\"T_0a1bc_row0_col5\" class=\"data row0 col5\" >0.6842</td>\n",
              "      <td id=\"T_0a1bc_row0_col6\" class=\"data row0 col6\" >0.6596</td>\n",
              "      <td id=\"T_0a1bc_row0_col7\" class=\"data row0 col7\" >0.6773</td>\n",
              "    </tr>\n",
              "  </tbody>\n",
              "</table>\n"
            ],
            "text/plain": [
              "<pandas.io.formats.style.Styler at 0x205cd6a8d90>"
            ]
          },
          "metadata": {},
          "output_type": "display_data"
        }
      ],
      "source": [
        "scores = predict_model(final_model, test)\n",
        "scores = pull()"
      ]
    },
    {
      "cell_type": "code",
      "execution_count": 22,
      "metadata": {},
      "outputs": [],
      "source": [
        "diccionario = scores.to_dict()"
      ]
    },
    {
      "cell_type": "code",
      "execution_count": 23,
      "metadata": {},
      "outputs": [],
      "source": [
        "import json"
      ]
    },
    {
      "cell_type": "code",
      "execution_count": 24,
      "metadata": {},
      "outputs": [],
      "source": [
        "# Guardar el diccionario como un archivo JSON\n",
        "with open(\"./metrics/metrics_model.json\", \"w\") as json_file:\n",
        "    json.dump(diccionario, json_file)"
      ]
    },
    {
      "cell_type": "markdown",
      "metadata": {},
      "source": [
        "# Save the model"
      ]
    },
    {
      "cell_type": "code",
      "execution_count": 25,
      "metadata": {},
      "outputs": [],
      "source": [
        "import joblib"
      ]
    },
    {
      "cell_type": "code",
      "execution_count": 26,
      "metadata": {},
      "outputs": [
        {
          "data": {
            "text/plain": [
              "['./models/trained_model.joblib']"
            ]
          },
          "execution_count": 26,
          "metadata": {},
          "output_type": "execute_result"
        }
      ],
      "source": [
        "joblib.dump(final_model, './models/trained_model.joblib')"
      ]
    },
    {
      "cell_type": "markdown",
      "metadata": {},
      "source": [
        "# Save hyperparameters \n",
        "\n",
        "The hyperparameters are going to be saved in dagshub"
      ]
    },
    {
      "cell_type": "code",
      "execution_count": 29,
      "metadata": {},
      "outputs": [],
      "source": [
        "import dagshub"
      ]
    },
    {
      "cell_type": "code",
      "execution_count": 34,
      "metadata": {},
      "outputs": [],
      "source": [
        "with dagshub.dagshub_logger() as logger:\n",
        "    # save hyperparameters of the model\n",
        "    logger.log_hyperparams({'model': final_model.get_params()})\n",
        "    # save the metrics of the model\n",
        "    logger.log_metrics({'Evaluation metrics': scores.to_dict()})"
      ]
    }
  ],
  "metadata": {
    "colab": {
      "provenance": []
    },
    "kernelspec": {
      "display_name": "Python 3",
      "name": "python3"
    },
    "language_info": {
      "codemirror_mode": {
        "name": "ipython",
        "version": 3
      },
      "file_extension": ".py",
      "mimetype": "text/x-python",
      "name": "python",
      "nbconvert_exporter": "python",
      "pygments_lexer": "ipython3",
      "version": "3.9.16"
    },
    "widgets": {
      "application/vnd.jupyter.widget-state+json": {
        "1862b1e46b404b6c8b932c7765681218": {
          "model_module": "@jupyter-widgets/controls",
          "model_module_version": "1.5.0",
          "model_name": "HBoxModel",
          "state": {
            "_dom_classes": [],
            "_model_module": "@jupyter-widgets/controls",
            "_model_module_version": "1.5.0",
            "_model_name": "HBoxModel",
            "_view_count": null,
            "_view_module": "@jupyter-widgets/controls",
            "_view_module_version": "1.5.0",
            "_view_name": "HBoxView",
            "box_style": "",
            "children": [
              "IPY_MODEL_2f706861158e4dfc8eb59a5d98e50f77",
              "IPY_MODEL_ab7038f4fe4f4cb587fec542a66a52d4",
              "IPY_MODEL_49cf76f5ebfd496e98506ef77d388747"
            ],
            "layout": "IPY_MODEL_f7172cb4f2064403bc2d6eff7ce0d0cd"
          }
        },
        "2058496622644d26acba1a7cf823eaa0": {
          "model_module": "@jupyter-widgets/controls",
          "model_module_version": "1.5.0",
          "model_name": "ProgressStyleModel",
          "state": {
            "_model_module": "@jupyter-widgets/controls",
            "_model_module_version": "1.5.0",
            "_model_name": "ProgressStyleModel",
            "_view_count": null,
            "_view_module": "@jupyter-widgets/base",
            "_view_module_version": "1.2.0",
            "_view_name": "StyleView",
            "bar_color": null,
            "description_width": ""
          }
        },
        "252613dcc0364d45ad54ec5b63aa9474": {
          "model_module": "@jupyter-widgets/base",
          "model_module_version": "1.2.0",
          "model_name": "LayoutModel",
          "state": {
            "_model_module": "@jupyter-widgets/base",
            "_model_module_version": "1.2.0",
            "_model_name": "LayoutModel",
            "_view_count": null,
            "_view_module": "@jupyter-widgets/base",
            "_view_module_version": "1.2.0",
            "_view_name": "LayoutView",
            "align_content": null,
            "align_items": null,
            "align_self": null,
            "border": null,
            "bottom": null,
            "display": null,
            "flex": null,
            "flex_flow": null,
            "grid_area": null,
            "grid_auto_columns": null,
            "grid_auto_flow": null,
            "grid_auto_rows": null,
            "grid_column": null,
            "grid_gap": null,
            "grid_row": null,
            "grid_template_areas": null,
            "grid_template_columns": null,
            "grid_template_rows": null,
            "height": null,
            "justify_content": null,
            "justify_items": null,
            "left": null,
            "margin": null,
            "max_height": null,
            "max_width": null,
            "min_height": null,
            "min_width": null,
            "object_fit": null,
            "object_position": null,
            "order": null,
            "overflow": null,
            "overflow_x": null,
            "overflow_y": null,
            "padding": null,
            "right": null,
            "top": null,
            "visibility": null,
            "width": null
          }
        },
        "2f706861158e4dfc8eb59a5d98e50f77": {
          "model_module": "@jupyter-widgets/controls",
          "model_module_version": "1.5.0",
          "model_name": "HTMLModel",
          "state": {
            "_dom_classes": [],
            "_model_module": "@jupyter-widgets/controls",
            "_model_module_version": "1.5.0",
            "_model_name": "HTMLModel",
            "_view_count": null,
            "_view_module": "@jupyter-widgets/controls",
            "_view_module_version": "1.5.0",
            "_view_name": "HTMLView",
            "description": "",
            "description_tooltip": null,
            "layout": "IPY_MODEL_a85c86d35a3c4ae1af3b2b35ee266aae",
            "placeholder": "​",
            "style": "IPY_MODEL_5ba89064c5b24422aca28025765c2bf5",
            "value": "Summarize dataset: 100%"
          }
        },
        "3d3902306fd34f3893f1b71172956760": {
          "model_module": "@jupyter-widgets/controls",
          "model_module_version": "1.5.0",
          "model_name": "ProgressStyleModel",
          "state": {
            "_model_module": "@jupyter-widgets/controls",
            "_model_module_version": "1.5.0",
            "_model_name": "ProgressStyleModel",
            "_view_count": null,
            "_view_module": "@jupyter-widgets/base",
            "_view_module_version": "1.2.0",
            "_view_name": "StyleView",
            "bar_color": null,
            "description_width": ""
          }
        },
        "42b4b3eeab8e416c9e3cb0c54f90ea5b": {
          "model_module": "@jupyter-widgets/controls",
          "model_module_version": "1.5.0",
          "model_name": "DescriptionStyleModel",
          "state": {
            "_model_module": "@jupyter-widgets/controls",
            "_model_module_version": "1.5.0",
            "_model_name": "DescriptionStyleModel",
            "_view_count": null,
            "_view_module": "@jupyter-widgets/base",
            "_view_module_version": "1.2.0",
            "_view_name": "StyleView",
            "description_width": ""
          }
        },
        "49cf76f5ebfd496e98506ef77d388747": {
          "model_module": "@jupyter-widgets/controls",
          "model_module_version": "1.5.0",
          "model_name": "HTMLModel",
          "state": {
            "_dom_classes": [],
            "_model_module": "@jupyter-widgets/controls",
            "_model_module_version": "1.5.0",
            "_model_name": "HTMLModel",
            "_view_count": null,
            "_view_module": "@jupyter-widgets/controls",
            "_view_module_version": "1.5.0",
            "_view_name": "HTMLView",
            "description": "",
            "description_tooltip": null,
            "layout": "IPY_MODEL_8fed6787101a4629989caf846581d1e8",
            "placeholder": "​",
            "style": "IPY_MODEL_970373ac8798415c94f3ef1ccd20f870",
            "value": " 107/107 [00:32&lt;00:00,  1.74it/s, Completed]"
          }
        },
        "4a3cd090c561404ba8d836a267b92fbc": {
          "model_module": "@jupyter-widgets/controls",
          "model_module_version": "1.5.0",
          "model_name": "DescriptionStyleModel",
          "state": {
            "_model_module": "@jupyter-widgets/controls",
            "_model_module_version": "1.5.0",
            "_model_name": "DescriptionStyleModel",
            "_view_count": null,
            "_view_module": "@jupyter-widgets/base",
            "_view_module_version": "1.2.0",
            "_view_name": "StyleView",
            "description_width": ""
          }
        },
        "4f6aaa341ac34d7aa7c576a8f98375db": {
          "model_module": "@jupyter-widgets/controls",
          "model_module_version": "1.5.0",
          "model_name": "HTMLModel",
          "state": {
            "_dom_classes": [],
            "_model_module": "@jupyter-widgets/controls",
            "_model_module_version": "1.5.0",
            "_model_name": "HTMLModel",
            "_view_count": null,
            "_view_module": "@jupyter-widgets/controls",
            "_view_module_version": "1.5.0",
            "_view_name": "HTMLView",
            "description": "",
            "description_tooltip": null,
            "layout": "IPY_MODEL_bb0df2776fae4acb972b0e74be9f62d2",
            "placeholder": "​",
            "style": "IPY_MODEL_4a3cd090c561404ba8d836a267b92fbc",
            "value": "Generate report structure: 100%"
          }
        },
        "521fb4f26c0f4c45b11053ed1c985af6": {
          "model_module": "@jupyter-widgets/base",
          "model_module_version": "1.2.0",
          "model_name": "LayoutModel",
          "state": {
            "_model_module": "@jupyter-widgets/base",
            "_model_module_version": "1.2.0",
            "_model_name": "LayoutModel",
            "_view_count": null,
            "_view_module": "@jupyter-widgets/base",
            "_view_module_version": "1.2.0",
            "_view_name": "LayoutView",
            "align_content": null,
            "align_items": null,
            "align_self": null,
            "border": null,
            "bottom": null,
            "display": null,
            "flex": null,
            "flex_flow": null,
            "grid_area": null,
            "grid_auto_columns": null,
            "grid_auto_flow": null,
            "grid_auto_rows": null,
            "grid_column": null,
            "grid_gap": null,
            "grid_row": null,
            "grid_template_areas": null,
            "grid_template_columns": null,
            "grid_template_rows": null,
            "height": null,
            "justify_content": null,
            "justify_items": null,
            "left": null,
            "margin": null,
            "max_height": null,
            "max_width": null,
            "min_height": null,
            "min_width": null,
            "object_fit": null,
            "object_position": null,
            "order": null,
            "overflow": null,
            "overflow_x": null,
            "overflow_y": null,
            "padding": null,
            "right": null,
            "top": null,
            "visibility": null,
            "width": null
          }
        },
        "528a514fbaab4a27a621d8beaa9e7a27": {
          "model_module": "@jupyter-widgets/controls",
          "model_module_version": "1.5.0",
          "model_name": "HTMLModel",
          "state": {
            "_dom_classes": [],
            "_model_module": "@jupyter-widgets/controls",
            "_model_module_version": "1.5.0",
            "_model_name": "HTMLModel",
            "_view_count": null,
            "_view_module": "@jupyter-widgets/controls",
            "_view_module_version": "1.5.0",
            "_view_name": "HTMLView",
            "description": "",
            "description_tooltip": null,
            "layout": "IPY_MODEL_cbb3bc15958448f0b8e2c82cc1b0511a",
            "placeholder": "​",
            "style": "IPY_MODEL_42b4b3eeab8e416c9e3cb0c54f90ea5b",
            "value": " 1/1 [00:20&lt;00:00, 20.42s/it]"
          }
        },
        "5ba89064c5b24422aca28025765c2bf5": {
          "model_module": "@jupyter-widgets/controls",
          "model_module_version": "1.5.0",
          "model_name": "DescriptionStyleModel",
          "state": {
            "_model_module": "@jupyter-widgets/controls",
            "_model_module_version": "1.5.0",
            "_model_name": "DescriptionStyleModel",
            "_view_count": null,
            "_view_module": "@jupyter-widgets/base",
            "_view_module_version": "1.2.0",
            "_view_name": "StyleView",
            "description_width": ""
          }
        },
        "77a3bceb22e742fea44a1c2d40540113": {
          "model_module": "@jupyter-widgets/controls",
          "model_module_version": "1.5.0",
          "model_name": "HTMLModel",
          "state": {
            "_dom_classes": [],
            "_model_module": "@jupyter-widgets/controls",
            "_model_module_version": "1.5.0",
            "_model_name": "HTMLModel",
            "_view_count": null,
            "_view_module": "@jupyter-widgets/controls",
            "_view_module_version": "1.5.0",
            "_view_name": "HTMLView",
            "description": "",
            "description_tooltip": null,
            "layout": "IPY_MODEL_b69a53f0a84d4f62a85b551758a2f73f",
            "placeholder": "​",
            "style": "IPY_MODEL_df10cb72f7c14ca2a87947c7620f5253",
            "value": "Render HTML: 100%"
          }
        },
        "7892e924044146678eba36727db211cd": {
          "model_module": "@jupyter-widgets/base",
          "model_module_version": "1.2.0",
          "model_name": "LayoutModel",
          "state": {
            "_model_module": "@jupyter-widgets/base",
            "_model_module_version": "1.2.0",
            "_model_name": "LayoutModel",
            "_view_count": null,
            "_view_module": "@jupyter-widgets/base",
            "_view_module_version": "1.2.0",
            "_view_name": "LayoutView",
            "align_content": null,
            "align_items": null,
            "align_self": null,
            "border": null,
            "bottom": null,
            "display": null,
            "flex": null,
            "flex_flow": null,
            "grid_area": null,
            "grid_auto_columns": null,
            "grid_auto_flow": null,
            "grid_auto_rows": null,
            "grid_column": null,
            "grid_gap": null,
            "grid_row": null,
            "grid_template_areas": null,
            "grid_template_columns": null,
            "grid_template_rows": null,
            "height": null,
            "justify_content": null,
            "justify_items": null,
            "left": null,
            "margin": null,
            "max_height": null,
            "max_width": null,
            "min_height": null,
            "min_width": null,
            "object_fit": null,
            "object_position": null,
            "order": null,
            "overflow": null,
            "overflow_x": null,
            "overflow_y": null,
            "padding": null,
            "right": null,
            "top": null,
            "visibility": null,
            "width": null
          }
        },
        "802c31ade62d4311b3184137e1a89e41": {
          "model_module": "@jupyter-widgets/controls",
          "model_module_version": "1.5.0",
          "model_name": "ProgressStyleModel",
          "state": {
            "_model_module": "@jupyter-widgets/controls",
            "_model_module_version": "1.5.0",
            "_model_name": "ProgressStyleModel",
            "_view_count": null,
            "_view_module": "@jupyter-widgets/base",
            "_view_module_version": "1.2.0",
            "_view_name": "StyleView",
            "bar_color": null,
            "description_width": ""
          }
        },
        "8466d5673f9d4d368ef4ca10b9a8eee6": {
          "model_module": "@jupyter-widgets/controls",
          "model_module_version": "1.5.0",
          "model_name": "FloatProgressModel",
          "state": {
            "_dom_classes": [],
            "_model_module": "@jupyter-widgets/controls",
            "_model_module_version": "1.5.0",
            "_model_name": "FloatProgressModel",
            "_view_count": null,
            "_view_module": "@jupyter-widgets/controls",
            "_view_module_version": "1.5.0",
            "_view_name": "ProgressView",
            "bar_style": "success",
            "description": "",
            "description_tooltip": null,
            "layout": "IPY_MODEL_89511788073b47229b913249296488d5",
            "max": 1,
            "min": 0,
            "orientation": "horizontal",
            "style": "IPY_MODEL_3d3902306fd34f3893f1b71172956760",
            "value": 1
          }
        },
        "89511788073b47229b913249296488d5": {
          "model_module": "@jupyter-widgets/base",
          "model_module_version": "1.2.0",
          "model_name": "LayoutModel",
          "state": {
            "_model_module": "@jupyter-widgets/base",
            "_model_module_version": "1.2.0",
            "_model_name": "LayoutModel",
            "_view_count": null,
            "_view_module": "@jupyter-widgets/base",
            "_view_module_version": "1.2.0",
            "_view_name": "LayoutView",
            "align_content": null,
            "align_items": null,
            "align_self": null,
            "border": null,
            "bottom": null,
            "display": null,
            "flex": null,
            "flex_flow": null,
            "grid_area": null,
            "grid_auto_columns": null,
            "grid_auto_flow": null,
            "grid_auto_rows": null,
            "grid_column": null,
            "grid_gap": null,
            "grid_row": null,
            "grid_template_areas": null,
            "grid_template_columns": null,
            "grid_template_rows": null,
            "height": null,
            "justify_content": null,
            "justify_items": null,
            "left": null,
            "margin": null,
            "max_height": null,
            "max_width": null,
            "min_height": null,
            "min_width": null,
            "object_fit": null,
            "object_position": null,
            "order": null,
            "overflow": null,
            "overflow_x": null,
            "overflow_y": null,
            "padding": null,
            "right": null,
            "top": null,
            "visibility": null,
            "width": null
          }
        },
        "8c999f3263204ec68b71a5b0a1cbdf32": {
          "model_module": "@jupyter-widgets/controls",
          "model_module_version": "1.5.0",
          "model_name": "HBoxModel",
          "state": {
            "_dom_classes": [],
            "_model_module": "@jupyter-widgets/controls",
            "_model_module_version": "1.5.0",
            "_model_name": "HBoxModel",
            "_view_count": null,
            "_view_module": "@jupyter-widgets/controls",
            "_view_module_version": "1.5.0",
            "_view_name": "HBoxView",
            "box_style": "",
            "children": [
              "IPY_MODEL_4f6aaa341ac34d7aa7c576a8f98375db",
              "IPY_MODEL_8466d5673f9d4d368ef4ca10b9a8eee6",
              "IPY_MODEL_528a514fbaab4a27a621d8beaa9e7a27"
            ],
            "layout": "IPY_MODEL_521fb4f26c0f4c45b11053ed1c985af6"
          }
        },
        "8fed6787101a4629989caf846581d1e8": {
          "model_module": "@jupyter-widgets/base",
          "model_module_version": "1.2.0",
          "model_name": "LayoutModel",
          "state": {
            "_model_module": "@jupyter-widgets/base",
            "_model_module_version": "1.2.0",
            "_model_name": "LayoutModel",
            "_view_count": null,
            "_view_module": "@jupyter-widgets/base",
            "_view_module_version": "1.2.0",
            "_view_name": "LayoutView",
            "align_content": null,
            "align_items": null,
            "align_self": null,
            "border": null,
            "bottom": null,
            "display": null,
            "flex": null,
            "flex_flow": null,
            "grid_area": null,
            "grid_auto_columns": null,
            "grid_auto_flow": null,
            "grid_auto_rows": null,
            "grid_column": null,
            "grid_gap": null,
            "grid_row": null,
            "grid_template_areas": null,
            "grid_template_columns": null,
            "grid_template_rows": null,
            "height": null,
            "justify_content": null,
            "justify_items": null,
            "left": null,
            "margin": null,
            "max_height": null,
            "max_width": null,
            "min_height": null,
            "min_width": null,
            "object_fit": null,
            "object_position": null,
            "order": null,
            "overflow": null,
            "overflow_x": null,
            "overflow_y": null,
            "padding": null,
            "right": null,
            "top": null,
            "visibility": null,
            "width": null
          }
        },
        "970373ac8798415c94f3ef1ccd20f870": {
          "model_module": "@jupyter-widgets/controls",
          "model_module_version": "1.5.0",
          "model_name": "DescriptionStyleModel",
          "state": {
            "_model_module": "@jupyter-widgets/controls",
            "_model_module_version": "1.5.0",
            "_model_name": "DescriptionStyleModel",
            "_view_count": null,
            "_view_module": "@jupyter-widgets/base",
            "_view_module_version": "1.2.0",
            "_view_name": "StyleView",
            "description_width": ""
          }
        },
        "9843dd66adf64f259ac0fdfe1ed1c708": {
          "model_module": "@jupyter-widgets/controls",
          "model_module_version": "1.5.0",
          "model_name": "HTMLModel",
          "state": {
            "_dom_classes": [],
            "_model_module": "@jupyter-widgets/controls",
            "_model_module_version": "1.5.0",
            "_model_name": "HTMLModel",
            "_view_count": null,
            "_view_module": "@jupyter-widgets/controls",
            "_view_module_version": "1.5.0",
            "_view_name": "HTMLView",
            "description": "",
            "description_tooltip": null,
            "layout": "IPY_MODEL_7892e924044146678eba36727db211cd",
            "placeholder": "​",
            "style": "IPY_MODEL_c3c1e0558ec5450db508e0116e97442d",
            "value": " 1/1 [00:04&lt;00:00,  4.18s/it]"
          }
        },
        "9966d95ea572400498821f6073d1445a": {
          "model_module": "@jupyter-widgets/base",
          "model_module_version": "1.2.0",
          "model_name": "LayoutModel",
          "state": {
            "_model_module": "@jupyter-widgets/base",
            "_model_module_version": "1.2.0",
            "_model_name": "LayoutModel",
            "_view_count": null,
            "_view_module": "@jupyter-widgets/base",
            "_view_module_version": "1.2.0",
            "_view_name": "LayoutView",
            "align_content": null,
            "align_items": null,
            "align_self": null,
            "border": null,
            "bottom": null,
            "display": null,
            "flex": null,
            "flex_flow": null,
            "grid_area": null,
            "grid_auto_columns": null,
            "grid_auto_flow": null,
            "grid_auto_rows": null,
            "grid_column": null,
            "grid_gap": null,
            "grid_row": null,
            "grid_template_areas": null,
            "grid_template_columns": null,
            "grid_template_rows": null,
            "height": null,
            "justify_content": null,
            "justify_items": null,
            "left": null,
            "margin": null,
            "max_height": null,
            "max_width": null,
            "min_height": null,
            "min_width": null,
            "object_fit": null,
            "object_position": null,
            "order": null,
            "overflow": null,
            "overflow_x": null,
            "overflow_y": null,
            "padding": null,
            "right": null,
            "top": null,
            "visibility": null,
            "width": null
          }
        },
        "9f93b6b606e44bd4bb8f50a6e0e26365": {
          "model_module": "@jupyter-widgets/controls",
          "model_module_version": "1.5.0",
          "model_name": "HBoxModel",
          "state": {
            "_dom_classes": [],
            "_model_module": "@jupyter-widgets/controls",
            "_model_module_version": "1.5.0",
            "_model_name": "HBoxModel",
            "_view_count": null,
            "_view_module": "@jupyter-widgets/controls",
            "_view_module_version": "1.5.0",
            "_view_name": "HBoxView",
            "box_style": "",
            "children": [
              "IPY_MODEL_77a3bceb22e742fea44a1c2d40540113",
              "IPY_MODEL_f4033c249c7a49b9ad62b194fc68a760",
              "IPY_MODEL_9843dd66adf64f259ac0fdfe1ed1c708"
            ],
            "layout": "IPY_MODEL_252613dcc0364d45ad54ec5b63aa9474"
          }
        },
        "a85c86d35a3c4ae1af3b2b35ee266aae": {
          "model_module": "@jupyter-widgets/base",
          "model_module_version": "1.2.0",
          "model_name": "LayoutModel",
          "state": {
            "_model_module": "@jupyter-widgets/base",
            "_model_module_version": "1.2.0",
            "_model_name": "LayoutModel",
            "_view_count": null,
            "_view_module": "@jupyter-widgets/base",
            "_view_module_version": "1.2.0",
            "_view_name": "LayoutView",
            "align_content": null,
            "align_items": null,
            "align_self": null,
            "border": null,
            "bottom": null,
            "display": null,
            "flex": null,
            "flex_flow": null,
            "grid_area": null,
            "grid_auto_columns": null,
            "grid_auto_flow": null,
            "grid_auto_rows": null,
            "grid_column": null,
            "grid_gap": null,
            "grid_row": null,
            "grid_template_areas": null,
            "grid_template_columns": null,
            "grid_template_rows": null,
            "height": null,
            "justify_content": null,
            "justify_items": null,
            "left": null,
            "margin": null,
            "max_height": null,
            "max_width": null,
            "min_height": null,
            "min_width": null,
            "object_fit": null,
            "object_position": null,
            "order": null,
            "overflow": null,
            "overflow_x": null,
            "overflow_y": null,
            "padding": null,
            "right": null,
            "top": null,
            "visibility": null,
            "width": null
          }
        },
        "ab7038f4fe4f4cb587fec542a66a52d4": {
          "model_module": "@jupyter-widgets/controls",
          "model_module_version": "1.5.0",
          "model_name": "FloatProgressModel",
          "state": {
            "_dom_classes": [],
            "_model_module": "@jupyter-widgets/controls",
            "_model_module_version": "1.5.0",
            "_model_name": "FloatProgressModel",
            "_view_count": null,
            "_view_module": "@jupyter-widgets/controls",
            "_view_module_version": "1.5.0",
            "_view_name": "ProgressView",
            "bar_style": "success",
            "description": "",
            "description_tooltip": null,
            "layout": "IPY_MODEL_9966d95ea572400498821f6073d1445a",
            "max": 5,
            "min": 0,
            "orientation": "horizontal",
            "style": "IPY_MODEL_2058496622644d26acba1a7cf823eaa0",
            "value": 5
          }
        },
        "b69a53f0a84d4f62a85b551758a2f73f": {
          "model_module": "@jupyter-widgets/base",
          "model_module_version": "1.2.0",
          "model_name": "LayoutModel",
          "state": {
            "_model_module": "@jupyter-widgets/base",
            "_model_module_version": "1.2.0",
            "_model_name": "LayoutModel",
            "_view_count": null,
            "_view_module": "@jupyter-widgets/base",
            "_view_module_version": "1.2.0",
            "_view_name": "LayoutView",
            "align_content": null,
            "align_items": null,
            "align_self": null,
            "border": null,
            "bottom": null,
            "display": null,
            "flex": null,
            "flex_flow": null,
            "grid_area": null,
            "grid_auto_columns": null,
            "grid_auto_flow": null,
            "grid_auto_rows": null,
            "grid_column": null,
            "grid_gap": null,
            "grid_row": null,
            "grid_template_areas": null,
            "grid_template_columns": null,
            "grid_template_rows": null,
            "height": null,
            "justify_content": null,
            "justify_items": null,
            "left": null,
            "margin": null,
            "max_height": null,
            "max_width": null,
            "min_height": null,
            "min_width": null,
            "object_fit": null,
            "object_position": null,
            "order": null,
            "overflow": null,
            "overflow_x": null,
            "overflow_y": null,
            "padding": null,
            "right": null,
            "top": null,
            "visibility": null,
            "width": null
          }
        },
        "bb0df2776fae4acb972b0e74be9f62d2": {
          "model_module": "@jupyter-widgets/base",
          "model_module_version": "1.2.0",
          "model_name": "LayoutModel",
          "state": {
            "_model_module": "@jupyter-widgets/base",
            "_model_module_version": "1.2.0",
            "_model_name": "LayoutModel",
            "_view_count": null,
            "_view_module": "@jupyter-widgets/base",
            "_view_module_version": "1.2.0",
            "_view_name": "LayoutView",
            "align_content": null,
            "align_items": null,
            "align_self": null,
            "border": null,
            "bottom": null,
            "display": null,
            "flex": null,
            "flex_flow": null,
            "grid_area": null,
            "grid_auto_columns": null,
            "grid_auto_flow": null,
            "grid_auto_rows": null,
            "grid_column": null,
            "grid_gap": null,
            "grid_row": null,
            "grid_template_areas": null,
            "grid_template_columns": null,
            "grid_template_rows": null,
            "height": null,
            "justify_content": null,
            "justify_items": null,
            "left": null,
            "margin": null,
            "max_height": null,
            "max_width": null,
            "min_height": null,
            "min_width": null,
            "object_fit": null,
            "object_position": null,
            "order": null,
            "overflow": null,
            "overflow_x": null,
            "overflow_y": null,
            "padding": null,
            "right": null,
            "top": null,
            "visibility": null,
            "width": null
          }
        },
        "c2acc81bd72b4980a04672155a745643": {
          "model_module": "@jupyter-widgets/base",
          "model_module_version": "1.2.0",
          "model_name": "LayoutModel",
          "state": {
            "_model_module": "@jupyter-widgets/base",
            "_model_module_version": "1.2.0",
            "_model_name": "LayoutModel",
            "_view_count": null,
            "_view_module": "@jupyter-widgets/base",
            "_view_module_version": "1.2.0",
            "_view_name": "LayoutView",
            "align_content": null,
            "align_items": null,
            "align_self": null,
            "border": null,
            "bottom": null,
            "display": null,
            "flex": null,
            "flex_flow": null,
            "grid_area": null,
            "grid_auto_columns": null,
            "grid_auto_flow": null,
            "grid_auto_rows": null,
            "grid_column": null,
            "grid_gap": null,
            "grid_row": null,
            "grid_template_areas": null,
            "grid_template_columns": null,
            "grid_template_rows": null,
            "height": null,
            "justify_content": null,
            "justify_items": null,
            "left": null,
            "margin": null,
            "max_height": null,
            "max_width": null,
            "min_height": null,
            "min_width": null,
            "object_fit": null,
            "object_position": null,
            "order": null,
            "overflow": null,
            "overflow_x": null,
            "overflow_y": null,
            "padding": null,
            "right": null,
            "top": null,
            "visibility": null,
            "width": null
          }
        },
        "c3c1e0558ec5450db508e0116e97442d": {
          "model_module": "@jupyter-widgets/controls",
          "model_module_version": "1.5.0",
          "model_name": "DescriptionStyleModel",
          "state": {
            "_model_module": "@jupyter-widgets/controls",
            "_model_module_version": "1.5.0",
            "_model_name": "DescriptionStyleModel",
            "_view_count": null,
            "_view_module": "@jupyter-widgets/base",
            "_view_module_version": "1.2.0",
            "_view_name": "StyleView",
            "description_width": ""
          }
        },
        "cbb3bc15958448f0b8e2c82cc1b0511a": {
          "model_module": "@jupyter-widgets/base",
          "model_module_version": "1.2.0",
          "model_name": "LayoutModel",
          "state": {
            "_model_module": "@jupyter-widgets/base",
            "_model_module_version": "1.2.0",
            "_model_name": "LayoutModel",
            "_view_count": null,
            "_view_module": "@jupyter-widgets/base",
            "_view_module_version": "1.2.0",
            "_view_name": "LayoutView",
            "align_content": null,
            "align_items": null,
            "align_self": null,
            "border": null,
            "bottom": null,
            "display": null,
            "flex": null,
            "flex_flow": null,
            "grid_area": null,
            "grid_auto_columns": null,
            "grid_auto_flow": null,
            "grid_auto_rows": null,
            "grid_column": null,
            "grid_gap": null,
            "grid_row": null,
            "grid_template_areas": null,
            "grid_template_columns": null,
            "grid_template_rows": null,
            "height": null,
            "justify_content": null,
            "justify_items": null,
            "left": null,
            "margin": null,
            "max_height": null,
            "max_width": null,
            "min_height": null,
            "min_width": null,
            "object_fit": null,
            "object_position": null,
            "order": null,
            "overflow": null,
            "overflow_x": null,
            "overflow_y": null,
            "padding": null,
            "right": null,
            "top": null,
            "visibility": null,
            "width": null
          }
        },
        "df10cb72f7c14ca2a87947c7620f5253": {
          "model_module": "@jupyter-widgets/controls",
          "model_module_version": "1.5.0",
          "model_name": "DescriptionStyleModel",
          "state": {
            "_model_module": "@jupyter-widgets/controls",
            "_model_module_version": "1.5.0",
            "_model_name": "DescriptionStyleModel",
            "_view_count": null,
            "_view_module": "@jupyter-widgets/base",
            "_view_module_version": "1.2.0",
            "_view_name": "StyleView",
            "description_width": ""
          }
        },
        "f4033c249c7a49b9ad62b194fc68a760": {
          "model_module": "@jupyter-widgets/controls",
          "model_module_version": "1.5.0",
          "model_name": "FloatProgressModel",
          "state": {
            "_dom_classes": [],
            "_model_module": "@jupyter-widgets/controls",
            "_model_module_version": "1.5.0",
            "_model_name": "FloatProgressModel",
            "_view_count": null,
            "_view_module": "@jupyter-widgets/controls",
            "_view_module_version": "1.5.0",
            "_view_name": "ProgressView",
            "bar_style": "success",
            "description": "",
            "description_tooltip": null,
            "layout": "IPY_MODEL_c2acc81bd72b4980a04672155a745643",
            "max": 1,
            "min": 0,
            "orientation": "horizontal",
            "style": "IPY_MODEL_802c31ade62d4311b3184137e1a89e41",
            "value": 1
          }
        },
        "f7172cb4f2064403bc2d6eff7ce0d0cd": {
          "model_module": "@jupyter-widgets/base",
          "model_module_version": "1.2.0",
          "model_name": "LayoutModel",
          "state": {
            "_model_module": "@jupyter-widgets/base",
            "_model_module_version": "1.2.0",
            "_model_name": "LayoutModel",
            "_view_count": null,
            "_view_module": "@jupyter-widgets/base",
            "_view_module_version": "1.2.0",
            "_view_name": "LayoutView",
            "align_content": null,
            "align_items": null,
            "align_self": null,
            "border": null,
            "bottom": null,
            "display": null,
            "flex": null,
            "flex_flow": null,
            "grid_area": null,
            "grid_auto_columns": null,
            "grid_auto_flow": null,
            "grid_auto_rows": null,
            "grid_column": null,
            "grid_gap": null,
            "grid_row": null,
            "grid_template_areas": null,
            "grid_template_columns": null,
            "grid_template_rows": null,
            "height": null,
            "justify_content": null,
            "justify_items": null,
            "left": null,
            "margin": null,
            "max_height": null,
            "max_width": null,
            "min_height": null,
            "min_width": null,
            "object_fit": null,
            "object_position": null,
            "order": null,
            "overflow": null,
            "overflow_x": null,
            "overflow_y": null,
            "padding": null,
            "right": null,
            "top": null,
            "visibility": null,
            "width": null
          }
        }
      }
    }
  },
  "nbformat": 4,
  "nbformat_minor": 0
}
